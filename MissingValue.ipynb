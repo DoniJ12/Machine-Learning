{
 "cells": [
  {
   "cell_type": "code",
   "execution_count": 1,
   "id": "9fef009a-fccb-4846-b70f-3202c727d39a",
   "metadata": {},
   "outputs": [
    {
     "name": "stdout",
     "output_type": "stream",
     "text": [
      "Requirement already satisfied: pandas in c:\\users\\lenovo\\appdata\\local\\programs\\python\\python313\\lib\\site-packages (2.2.3)\n",
      "Requirement already satisfied: numpy in c:\\users\\lenovo\\appdata\\local\\programs\\python\\python313\\lib\\site-packages (2.2.4)\n",
      "Requirement already satisfied: matplotlib in c:\\users\\lenovo\\appdata\\local\\programs\\python\\python313\\lib\\site-packages (3.10.1)\n",
      "Collecting seaborn\n",
      "  Downloading seaborn-0.13.2-py3-none-any.whl.metadata (5.4 kB)\n",
      "Requirement already satisfied: python-dateutil>=2.8.2 in c:\\users\\lenovo\\appdata\\local\\programs\\python\\python313\\lib\\site-packages (from pandas) (2.9.0.post0)\n",
      "Requirement already satisfied: pytz>=2020.1 in c:\\users\\lenovo\\appdata\\local\\programs\\python\\python313\\lib\\site-packages (from pandas) (2025.2)\n",
      "Requirement already satisfied: tzdata>=2022.7 in c:\\users\\lenovo\\appdata\\local\\programs\\python\\python313\\lib\\site-packages (from pandas) (2025.2)\n",
      "Requirement already satisfied: contourpy>=1.0.1 in c:\\users\\lenovo\\appdata\\local\\programs\\python\\python313\\lib\\site-packages (from matplotlib) (1.3.1)\n",
      "Requirement already satisfied: cycler>=0.10 in c:\\users\\lenovo\\appdata\\local\\programs\\python\\python313\\lib\\site-packages (from matplotlib) (0.12.1)\n",
      "Requirement already satisfied: fonttools>=4.22.0 in c:\\users\\lenovo\\appdata\\local\\programs\\python\\python313\\lib\\site-packages (from matplotlib) (4.56.0)\n",
      "Requirement already satisfied: kiwisolver>=1.3.1 in c:\\users\\lenovo\\appdata\\local\\programs\\python\\python313\\lib\\site-packages (from matplotlib) (1.4.8)\n",
      "Requirement already satisfied: packaging>=20.0 in c:\\users\\lenovo\\appdata\\local\\programs\\python\\python313\\lib\\site-packages (from matplotlib) (24.2)\n",
      "Requirement already satisfied: pillow>=8 in c:\\users\\lenovo\\appdata\\local\\programs\\python\\python313\\lib\\site-packages (from matplotlib) (11.1.0)\n",
      "Requirement already satisfied: pyparsing>=2.3.1 in c:\\users\\lenovo\\appdata\\local\\programs\\python\\python313\\lib\\site-packages (from matplotlib) (3.2.3)\n",
      "Requirement already satisfied: six>=1.5 in c:\\users\\lenovo\\appdata\\local\\programs\\python\\python313\\lib\\site-packages (from python-dateutil>=2.8.2->pandas) (1.17.0)\n",
      "Downloading seaborn-0.13.2-py3-none-any.whl (294 kB)\n",
      "Installing collected packages: seaborn\n",
      "Successfully installed seaborn-0.13.2\n"
     ]
    },
    {
     "name": "stderr",
     "output_type": "stream",
     "text": [
      "\n",
      "[notice] A new release of pip is available: 24.2 -> 25.0.1\n",
      "[notice] To update, run: python.exe -m pip install --upgrade pip\n"
     ]
    }
   ],
   "source": [
    "!pip install pandas numpy matplotlib seaborn"
   ]
  },
  {
   "cell_type": "code",
   "execution_count": 2,
   "id": "848ac834-2fd0-46f1-9a23-25dfde62b429",
   "metadata": {},
   "outputs": [],
   "source": [
    "import pandas as pd\n",
    "import numpy as np\n",
    "import matplotlib.pyplot as plt\n",
    "import seaborn as sns\n",
    "\n",
    "# Set seaborn style for better visuals\n",
    "sns.set(style=\"whitegrid\")"
   ]
  },
  {
   "cell_type": "code",
   "execution_count": 3,
   "id": "f4cc3419-b20a-4253-b8a0-2a7f9bc02776",
   "metadata": {},
   "outputs": [
    {
     "name": "stdout",
     "output_type": "stream",
     "text": [
      "Original Dataset:\n",
      "      Name   Age   Salary  Score\n",
      "0    Alice  25.0  50000.0   85.0\n",
      "1      Bob   NaN  60000.0   90.0\n",
      "2  Charlie  30.0      NaN   88.0\n",
      "3    David  22.0  45000.0    NaN\n",
      "4      Eve   NaN  70000.0   92.0\n"
     ]
    }
   ],
   "source": [
    "# Sample dataset with missing values\n",
    "data = {\n",
    "    'Name': ['Alice', 'Bob', 'Charlie', 'David', 'Eve'],\n",
    "    'Age': [25, np.nan, 30, 22, np.nan],\n",
    "    'Salary': [50000, 60000, np.nan, 45000, 70000],\n",
    "    'Score': [85, 90, 88, np.nan, 92]\n",
    "}\n",
    "\n",
    "# Create DataFrame\n",
    "df = pd.DataFrame(data)\n",
    "\n",
    "# Display the original dataset\n",
    "print(\"Original Dataset:\")\n",
    "print(df)"
   ]
  },
  {
   "cell_type": "code",
   "execution_count": 4,
   "id": "97e3c532-2b84-4eec-8162-0663ec873e0b",
   "metadata": {},
   "outputs": [
    {
     "name": "stdout",
     "output_type": "stream",
     "text": [
      "\n",
      "Missing Values Count:\n",
      "Name      0\n",
      "Age       2\n",
      "Salary    1\n",
      "Score     1\n",
      "dtype: int64\n"
     ]
    },
    {
     "data": {
      "image/png": "[encoded data removed]",
      "text/plain": [
       "<Figure size 800x400 with 1 Axes>"
      ]
     },
     "metadata": {},
     "output_type": "display_data"
    }
   ],
   "source": [
    "# Check for missing values\n",
    "print(\"\\nMissing Values Count:\")\n",
    "print(df.isnull().sum())\n",
    "\n",
    "# Visualize missing values with a heatmap\n",
    "plt.figure(figsize=(8, 4))\n",
    "sns.heatmap(df.isnull(), cbar=False, cmap='viridis', yticklabels=df['Name'])\n",
    "plt.title('Missing Values Heatmap')\n",
    "plt.show()"
   ]
  },
  {
   "cell_type": "code",
   "execution_count": 5,
   "id": "cdd9ea6b-96cd-450d-86f0-f05d33259bf4",
   "metadata": {},
   "outputs": [
    {
     "name": "stdout",
     "output_type": "stream",
     "text": [
      "\n",
      "After Dropping Rows with Missing Values:\n",
      "    Name   Age   Salary  Score\n",
      "0  Alice  25.0  50000.0   85.0\n",
      "\n",
      "After Filling Missing Values with 0:\n",
      "      Name   Age   Salary  Score\n",
      "0    Alice  25.0  50000.0   85.0\n",
      "1      Bob   0.0  60000.0   90.0\n",
      "2  Charlie  30.0      0.0   88.0\n",
      "3    David  22.0  45000.0    0.0\n",
      "4      Eve   0.0  70000.0   92.0\n",
      "\n",
      "After Imputing Missing Values with Mean:\n",
      "      Name        Age   Salary  Score\n",
      "0    Alice  25.000000  50000.0  85.00\n",
      "1      Bob  25.666667  60000.0  90.00\n",
      "2  Charlie  30.000000  56250.0  88.00\n",
      "3    David  22.000000  45000.0  88.75\n",
      "4      Eve  25.666667  70000.0  92.00\n"
     ]
    },
    {
     "name": "stderr",
     "output_type": "stream",
     "text": [
      "C:\\Users\\lenovo\\AppData\\Local\\Temp\\ipykernel_13576\\2556390903.py:14: FutureWarning: A value is trying to be set on a copy of a DataFrame or Series through chained assignment using an inplace method.\n",
      "The behavior will change in pandas 3.0. This inplace method will never work because the intermediate object on which we are setting values always behaves as a copy.\n",
      "\n",
      "For example, when doing 'df[col].method(value, inplace=True)', try using 'df.method({col: value}, inplace=True)' or df[col] = df[col].method(value) instead, to perform the operation inplace on the original object.\n",
      "\n",
      "\n",
      "  df_imputed_mean[column].fillna(df[column].mean(), inplace=True)\n"
     ]
    }
   ],
   "source": [
    "# 1. Drop rows with any missing values\n",
    "df_dropped = df.dropna()\n",
    "print(\"\\nAfter Dropping Rows with Missing Values:\")\n",
    "print(df_dropped)\n",
    "\n",
    "# 2. Fill missing values with a constant (e.g., 0)\n",
    "df_filled_constant = df.fillna(0)\n",
    "print(\"\\nAfter Filling Missing Values with 0:\")\n",
    "print(df_filled_constant)\n",
    "\n",
    "# 3. Impute with mean for numeric columns\n",
    "df_imputed_mean = df.copy()\n",
    "for column in ['Age', 'Salary', 'Score']:\n",
    "    df_imputed_mean[column].fillna(df[column].mean(), inplace=True)\n",
    "print(\"\\nAfter Imputing Missing Values with Mean:\")\n",
    "print(df_imputed_mean)"
   ]
  },
  {
   "cell_type": "code",
   "execution_count": 6,
   "id": "15af8eb5-bc97-4c5b-9069-222061452c45",
   "metadata": {},
   "outputs": [
    {
     "data": {
      "image/png": "[encoded data removed]",
      "text/plain": [
       "<Figure size 1200x600 with 2 Axes>"
      ]
     },
     "metadata": {},
     "output_type": "display_data"
    }
   ],
   "source": [
    "# Plot comparison of original vs imputed data\n",
    "plt.figure(figsize=(12, 6))\n",
    "\n",
    "# Original data\n",
    "plt.subplot(1, 2, 1)\n",
    "sns.heatmap(df[['Age', 'Salary', 'Score']].isnull(), cbar=False, cmap='viridis')\n",
    "plt.title('Original Data (Missing Values)')\n",
    "\n",
    "# Imputed data\n",
    "plt.subplot(1, 2, 2)\n",
    "sns.heatmap(df_imputed_mean[['Age', 'Salary', 'Score']].isnull(), cbar=False, cmap='viridis')\n",
    "plt.title('After Mean Imputation (No Missing Values)')\n",
    "\n",
    "plt.tight_layout()\n",
    "plt.show()"
   ]
  },
  {
   "cell_type": "code",
   "execution_count": 7,
   "id": "c191e95f-fe03-4bb2-b0d8-2cc5f9f12f08",
   "metadata": {},
   "outputs": [
    {
     "name": "stdout",
     "output_type": "stream",
     "text": [
      "Cleaned dataset saved to 'cleaned_data.csv'\n"
     ]
    }
   ],
   "source": [
    "# Save the imputed dataset\n",
    "df_imputed_mean.to_csv('cleaned_data.csv', index=False)\n",
    "print(\"Cleaned dataset saved to 'cleaned_data.csv'\")"
   ]
  },
  {
   "cell_type": "code",
   "execution_count": null,
   "id": "a3e80819-1502-4b20-a4ab-ee6ae42d8cf2",
   "metadata": {},
   "outputs": [],
   "source": []
  }
 ],
 "metadata": {
  "kernelspec": {
   "display_name": "Python 3 (ipykernel)",
   "language": "python",
   "name": "python3"
  },
  "language_info": {
   "codemirror_mode": {
    "name": "ipython",
    "version": 3
   },
   "file_extension": ".py",
   "mimetype": "text/x-python",
   "name": "python",
   "nbconvert_exporter": "python",
   "pygments_lexer": "ipython3",
   "version": "3.13.0"
  }
 },
 "nbformat": 4,
 "nbformat_minor": 5
}
