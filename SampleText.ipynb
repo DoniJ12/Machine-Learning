{
 "cells": [
  {
   "cell_type": "code",
   "execution_count": 1,
   "id": "c0550f50-1ea8-483d-a852-6b1da95249a9",
   "metadata": {},
   "outputs": [
    {
     "name": "stdout",
     "output_type": "stream",
     "text": [
      "Requirement already satisfied: nltk in c:\\users\\lenovo\\appdata\\local\\programs\\python\\python313\\lib\\site-packages (3.9.1)\n",
      "Requirement already satisfied: scikit-learn in c:\\users\\lenovo\\appdata\\local\\programs\\python\\python313\\lib\\site-packages (1.6.1)\n",
      "Requirement already satisfied: click in c:\\users\\lenovo\\appdata\\local\\programs\\python\\python313\\lib\\site-packages (from nltk) (8.1.8)\n",
      "Requirement already satisfied: joblib in c:\\users\\lenovo\\appdata\\local\\programs\\python\\python313\\lib\\site-packages (from nltk) (1.4.2)\n",
      "Requirement already satisfied: regex>=2021.8.3 in c:\\users\\lenovo\\appdata\\local\\programs\\python\\python313\\lib\\site-packages (from nltk) (2024.11.6)\n",
      "Requirement already satisfied: tqdm in c:\\users\\lenovo\\appdata\\local\\programs\\python\\python313\\lib\\site-packages (from nltk) (4.67.1)\n",
      "Requirement already satisfied: numpy>=1.19.5 in c:\\users\\lenovo\\appdata\\local\\programs\\python\\python313\\lib\\site-packages (from scikit-learn) (2.2.4)\n",
      "Requirement already satisfied: scipy>=1.6.0 in c:\\users\\lenovo\\appdata\\local\\programs\\python\\python313\\lib\\site-packages (from scikit-learn) (1.15.2)\n",
      "Requirement already satisfied: threadpoolctl>=3.1.0 in c:\\users\\lenovo\\appdata\\local\\programs\\python\\python313\\lib\\site-packages (from scikit-learn) (3.6.0)\n",
      "Requirement already satisfied: colorama in c:\\users\\lenovo\\appdata\\local\\programs\\python\\python313\\lib\\site-packages (from click->nltk) (0.4.6)\n"
     ]
    },
    {
     "name": "stderr",
     "output_type": "stream",
     "text": [
      "\n",
      "[notice] A new release of pip is available: 24.2 -> 25.0.1\n",
      "[notice] To update, run: python.exe -m pip install --upgrade pip\n"
     ]
    }
   ],
   "source": [
    "!pip install nltk scikit-learn"
   ]
  },
  {
   "cell_type": "code",
   "execution_count": 4,
   "id": "814cd5a4-93d8-4c91-8b3a-1a8b80492c05",
   "metadata": {},
   "outputs": [
    {
     "name": "stderr",
     "output_type": "stream",
     "text": [
      "[nltk_data] Downloading package punkt to\n",
      "[nltk_data]     C:\\Users\\lenovo\\AppData\\Roaming\\nltk_data...\n",
      "[nltk_data]   Package punkt is already up-to-date!\n",
      "[nltk_data] Downloading package punkt_tab to\n",
      "[nltk_data]     C:\\Users\\lenovo\\AppData\\Roaming\\nltk_data...\n",
      "[nltk_data]   Package punkt_tab is already up-to-date!\n",
      "[nltk_data] Downloading package stopwords to\n",
      "[nltk_data]     C:\\Users\\lenovo\\AppData\\Roaming\\nltk_data...\n",
      "[nltk_data]   Package stopwords is already up-to-date!\n"
     ]
    },
    {
     "data": {
      "text/plain": [
       "True"
      ]
     },
     "execution_count": 4,
     "metadata": {},
     "output_type": "execute_result"
    }
   ],
   "source": [
    "import nltk\n",
    "from nltk.tokenize import word_tokenize\n",
    "from nltk.corpus import stopwords\n",
    "from nltk.stem import PorterStemmer  # Added for stemming\n",
    "from sklearn.feature_extraction.text import CountVectorizer\n",
    "import string\n",
    "import matplotlib.pyplot as plt\n",
    "\n",
    "# Download NLTK data (run this once)\n",
    "nltk.download('punkt')\n",
    "nltk.download('punkt_tab')\n",
    "nltk.download('stopwords')"
   ]
  },
  {
   "cell_type": "code",
   "execution_count": 3,
   "id": "ab140883-23e2-4a5f-b346-8fcd844fe6e6",
   "metadata": {},
   "outputs": [],
   "source": [
    "document = \"\"\"\n",
    "The biting wind of the Ethiopian highlands whipped at Ayele's face as he hurried through the bustling streets of Bole, clutching a worn leather-bound \n",
    "book. March 25th, 2025, was a day of both hope and uncertainty for him, as he navigated the crowded marketplace towards the Ethiopian Airlines \n",
    "headquarters. He hoped to finally get a chance to speak to the CEO about his invention, a solar-powered water purifier that could solve the water \n",
    "scarcity issues plaguing many rural communities.\n",
    "He pushed through the throng of vendors hawking their wares, the aroma of injera and spicy stews filling the air, a stark contrast to the dust \n",
    "and grit that clung to his worn clothes. He finally reached the airline's entrance, the imposing building a symbol of Ethiopia's progress, but also a \n",
    "reminder of the gap between the city and the countryside. He took a deep breath, the scent of coffee and hope filling his lungs, and stepped inside, \n",
    "ready to face the unknown.\n",
    "\"\"\""
   ]
  },
  {
   "cell_type": "code",
   "execution_count": 5,
   "id": "41c460f1-94a9-43db-9984-a14ff42a1c71",
   "metadata": {},
   "outputs": [
    {
     "name": "stdout",
     "output_type": "stream",
     "text": [
      "Stemmed Tokens: ['bite', 'wind', 'ethiopian', 'highland', 'whip', 'ayel', 'face', 'hurri', 'bustl', 'street', 'bole', 'clutch', 'worn', 'leatherbound', 'book', 'march', '25th', '2025', 'day', 'hope', 'uncertainti', 'navig', 'crowd', 'marketplac', 'toward', 'ethiopian', 'airlin', 'headquart', 'hope', 'final', 'get', 'chanc', 'speak', 'ceo', 'invent', 'solarpow', 'water', 'purifi', 'could', 'solv', 'water', 'scarciti', 'issu', 'plagu', 'mani', 'rural', 'commun', 'push', 'throng', 'vendor', 'hawk', 'ware', 'aroma', 'injera', 'spici', 'stew', 'fill', 'air', 'stark', 'contrast', 'dust', 'grit', 'clung', 'worn', 'cloth', 'final', 'reach', 'airlin', 'entranc', 'impos', 'build', 'symbol', 'ethiopia', 'progress', 'also', 'remind', 'gap', 'citi', 'countrysid', 'took', 'deep', 'breath', 'scent', 'coffe', 'hope', 'fill', 'lung', 'step', 'insid', 'readi', 'face', 'unknown']\n"
     ]
    }
   ],
   "source": [
    "# Convert to lowercase\n",
    "document = document.lower()\n",
    "\n",
    "# Remove punctuation\n",
    "document = document.translate(str.maketrans('', '', string.punctuation))\n",
    "\n",
    "# Tokenize the text\n",
    "tokens = word_tokenize(document)\n",
    "\n",
    "# Remove stopwords\n",
    "stop_words = set(stopwords.words('english'))\n",
    "filtered_tokens = [word for word in tokens if word not in stop_words]\n",
    "\n",
    "# Initialize the Porter Stemmer\n",
    "stemmer = PorterStemmer()\n",
    "\n",
    "# Apply stemming\n",
    "stemmed_tokens = [stemmer.stem(word) for word in filtered_tokens]\n",
    "\n",
    "print(\"Stemmed Tokens:\", stemmed_tokens)"
   ]
  },
  {
   "cell_type": "code",
   "execution_count": 8,
   "id": "11e5c0e5-6329-42a8-a149-e6d0f958a62a",
   "metadata": {},
   "outputs": [
    {
     "name": "stdout",
     "output_type": "stream",
     "text": [
      "Word Frequencies: {'2025': np.int64(1), '25th': np.int64(1), 'air': np.int64(1), 'airlin': np.int64(2), 'also': np.int64(1), 'aroma': np.int64(1), 'ayel': np.int64(1), 'bite': np.int64(1), 'bole': np.int64(1), 'book': np.int64(1), 'breath': np.int64(1), 'build': np.int64(1), 'bustl': np.int64(1), 'ceo': np.int64(1), 'chanc': np.int64(1), 'citi': np.int64(1), 'cloth': np.int64(1), 'clung': np.int64(1), 'clutch': np.int64(1), 'coffe': np.int64(1), 'commun': np.int64(1), 'contrast': np.int64(1), 'could': np.int64(1), 'countrysid': np.int64(1), 'crowd': np.int64(1), 'day': np.int64(1), 'deep': np.int64(1), 'dust': np.int64(1), 'entranc': np.int64(1), 'ethiopia': np.int64(1), 'ethiopian': np.int64(2), 'face': np.int64(2), 'fill': np.int64(2), 'final': np.int64(2), 'gap': np.int64(1), 'get': np.int64(1), 'grit': np.int64(1), 'hawk': np.int64(1), 'headquart': np.int64(1), 'highland': np.int64(1), 'hope': np.int64(3), 'hurri': np.int64(1), 'impos': np.int64(1), 'injera': np.int64(1), 'insid': np.int64(1), 'invent': np.int64(1), 'issu': np.int64(1), 'leatherbound': np.int64(1), 'lung': np.int64(1), 'mani': np.int64(1), 'march': np.int64(1), 'marketplac': np.int64(1), 'navig': np.int64(1), 'plagu': np.int64(1), 'progress': np.int64(1), 'purifi': np.int64(1), 'push': np.int64(1), 'reach': np.int64(1), 'readi': np.int64(1), 'remind': np.int64(1), 'rural': np.int64(1), 'scarciti': np.int64(1), 'scent': np.int64(1), 'solarpow': np.int64(1), 'solv': np.int64(1), 'speak': np.int64(1), 'spici': np.int64(1), 'stark': np.int64(1), 'step': np.int64(1), 'stew': np.int64(1), 'street': np.int64(1), 'symbol': np.int64(1), 'throng': np.int64(1), 'took': np.int64(1), 'toward': np.int64(1), 'uncertainti': np.int64(1), 'unknown': np.int64(1), 'vendor': np.int64(1), 'ware': np.int64(1), 'water': np.int64(2), 'whip': np.int64(1), 'wind': np.int64(1), 'worn': np.int64(2)}\n",
      "Total Unique Words: 83\n"
     ]
    }
   ],
   "source": [
    "# Join stemmed tokens back into a single string for CountVectorizer\n",
    "processed_text = ' '.join(stemmed_tokens)\n",
    "\n",
    "# Initialize CountVectorizer\n",
    "vectorizer = CountVectorizer()\n",
    "\n",
    "# Fit and transform the text into a word count matrix\n",
    "word_count_matrix = vectorizer.fit_transform([processed_text])\n",
    "\n",
    "# Get the words and their counts\n",
    "words = vectorizer.get_feature_names_out()\n",
    "counts = word_count_matrix.toarray()[0]\n",
    "\n",
    "# Combine into a dictionary\n",
    "word_freq = dict(zip(words, counts))\n",
    "\n",
    "# Display the word frequencies and unique word count\n",
    "print(\"Word Frequencies:\", word_freq)\n",
    "print(\"Total Unique Words:\", len(word_freq))"
   ]
  },
  {
   "cell_type": "code",
   "execution_count": 10,
   "id": "1867b183-ec8c-476a-acba-777eb74447b5",
   "metadata": {},
   "outputs": [
    {
     "name": "stdout",
     "output_type": "stream",
     "text": [
      "Top 10 Most Frequent Words:\n",
      "hope: 3\n",
      "airlin: 2\n",
      "ethiopian: 2\n",
      "face: 2\n",
      "fill: 2\n",
      "final: 2\n",
      "water: 2\n",
      "worn: 2\n",
      "2025: 1\n",
      "25th: 1\n"
     ]
    }
   ],
   "source": [
    "# Sort words by frequency (descending order)\n",
    "sorted_word_freq = dict(sorted(word_freq.items(), key=lambda x: x[1], reverse=True))\n",
    "\n",
    "# Print the top 5 most frequent words\n",
    "print(\"Top 10 Most Frequent Words:\")\n",
    "for word, freq in list(sorted_word_freq.items())[:10]:\n",
    "    print(f\"{word}: {freq}\")"
   ]
  },
  {
   "cell_type": "code",
   "execution_count": 11,
   "id": "452a0a42-cf5a-424b-afd7-32731afa69ed",
   "metadata": {},
   "outputs": [
    {
     "data": {
      "image/png": "[encoded data removed]",
      "text/plain": [
       "<Figure size 640x480 with 1 Axes>"
      ]
     },
     "metadata": {},
     "output_type": "display_data"
    }
   ],
   "source": [
    "# Get the top 5 words and their counts\n",
    "top_words = list(sorted_word_freq.keys())[:10]\n",
    "top_counts = list(sorted_word_freq.values())[:10]\n",
    "\n",
    "# Create a bar chart\n",
    "plt.bar(top_words, top_counts)\n",
    "plt.xlabel('Words')\n",
    "plt.ylabel('Frequency')\n",
    "plt.title('Top 10 Most Frequent Words')\n",
    "plt.show()"
   ]
  },
  {
   "cell_type": "code",
   "execution_count": null,
   "id": "1b808dde-88c1-46de-97f5-71284f69051f",
   "metadata": {},
   "outputs": [],
   "source": []
  }
 ],
 "metadata": {
  "kernelspec": {
   "display_name": "Python 3 (ipykernel)",
   "language": "python",
   "name": "python3"
  },
  "language_info": {
   "codemirror_mode": {
    "name": "ipython",
    "version": 3
   },
   "file_extension": ".py",
   "mimetype": "text/x-python",
   "name": "python",
   "nbconvert_exporter": "python",
   "pygments_lexer": "ipython3",
   "version": "3.13.0"
  }
 },
 "nbformat": 4,
 "nbformat_minor": 5
}
