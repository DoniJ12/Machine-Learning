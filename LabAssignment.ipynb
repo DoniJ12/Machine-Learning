{
 "cells": [
  {
   "cell_type": "code",
   "execution_count": 1,
   "id": "225407ff-c6a3-4bf4-b7a5-77823e7212dc",
   "metadata": {},
   "outputs": [
    {
     "name": "stdout",
     "output_type": "stream",
     "text": [
      "Requirement already satisfied: nltk in c:\\users\\lenovo\\appdata\\local\\programs\\python\\python313\\lib\\site-packages (3.9.1)\n",
      "Requirement already satisfied: scikit-learn in c:\\users\\lenovo\\appdata\\local\\programs\\python\\python313\\lib\\site-packages (1.6.1)\n",
      "Requirement already satisfied: click in c:\\users\\lenovo\\appdata\\local\\programs\\python\\python313\\lib\\site-packages (from nltk) (8.1.8)\n",
      "Requirement already satisfied: joblib in c:\\users\\lenovo\\appdata\\local\\programs\\python\\python313\\lib\\site-packages (from nltk) (1.4.2)\n",
      "Requirement already satisfied: regex>=2021.8.3 in c:\\users\\lenovo\\appdata\\local\\programs\\python\\python313\\lib\\site-packages (from nltk) (2024.11.6)\n",
      "Requirement already satisfied: tqdm in c:\\users\\lenovo\\appdata\\local\\programs\\python\\python313\\lib\\site-packages (from nltk) (4.67.1)\n",
      "Requirement already satisfied: numpy>=1.19.5 in c:\\users\\lenovo\\appdata\\local\\programs\\python\\python313\\lib\\site-packages (from scikit-learn) (2.2.4)\n",
      "Requirement already satisfied: scipy>=1.6.0 in c:\\users\\lenovo\\appdata\\local\\programs\\python\\python313\\lib\\site-packages (from scikit-learn) (1.15.2)\n",
      "Requirement already satisfied: threadpoolctl>=3.1.0 in c:\\users\\lenovo\\appdata\\local\\programs\\python\\python313\\lib\\site-packages (from scikit-learn) (3.6.0)\n",
      "Requirement already satisfied: colorama in c:\\users\\lenovo\\appdata\\local\\programs\\python\\python313\\lib\\site-packages (from click->nltk) (0.4.6)\n"
     ]
    },
    {
     "name": "stderr",
     "output_type": "stream",
     "text": [
      "\n",
      "[notice] A new release of pip is available: 24.2 -> 25.0.1\n",
      "[notice] To update, run: python.exe -m pip install --upgrade pip\n"
     ]
    }
   ],
   "source": [
    "!pip install nltk scikit-learn"
   ]
  },
  {
   "cell_type": "code",
   "execution_count": 2,
   "id": "c00b9a70-54c3-4e04-b576-e268fd5a36f4",
   "metadata": {},
   "outputs": [
    {
     "name": "stderr",
     "output_type": "stream",
     "text": [
      "[nltk_data] Downloading package punkt to\n",
      "[nltk_data]     C:\\Users\\lenovo\\AppData\\Roaming\\nltk_data...\n",
      "[nltk_data]   Package punkt is already up-to-date!\n",
      "[nltk_data] Downloading package punkt_tab to\n",
      "[nltk_data]     C:\\Users\\lenovo\\AppData\\Roaming\\nltk_data...\n",
      "[nltk_data]   Package punkt_tab is already up-to-date!\n",
      "[nltk_data] Downloading package stopwords to\n",
      "[nltk_data]     C:\\Users\\lenovo\\AppData\\Roaming\\nltk_data...\n",
      "[nltk_data]   Package stopwords is already up-to-date!\n"
     ]
    },
    {
     "data": {
      "text/plain": [
       "True"
      ]
     },
     "execution_count": 2,
     "metadata": {},
     "output_type": "execute_result"
    }
   ],
   "source": [
    "import nltk\n",
    "from nltk.tokenize import word_tokenize\n",
    "from nltk.corpus import stopwords\n",
    "from sklearn.feature_extraction.text import CountVectorizer\n",
    "import string\n",
    "\n",
    "# Download required NLTK data\n",
    "nltk.download('punkt')      # For word tokenization\n",
    "nltk.download('punkt_tab')  # For sentence tokenization (newer requirement)\n",
    "nltk.download('stopwords')  # For stopwords"
   ]
  },
  {
   "cell_type": "code",
   "execution_count": 3,
   "id": "a73909de-1269-4f66-bf43-cf364eb44762",
   "metadata": {},
   "outputs": [
    {
     "name": "stdout",
     "output_type": "stream",
     "text": [
      "Filtered Tokens: ['biting', 'wind', 'ethiopian', 'highlands', 'whipped', 'ayeles', 'face', 'hurried', 'bustling', 'streets', 'bole', 'clutching', 'worn', 'leatherbound', 'book', 'march', '25th', '2025', 'day', 'hope', 'uncertainty', 'navigated', 'crowded', 'marketplace', 'towards', 'ethiopian', 'airlines', 'headquarters', 'hoped', 'finally', 'get', 'chance', 'speak', 'ceo', 'invention', 'solarpowered', 'water', 'purifier', 'could', 'solve', 'water', 'scarcity', 'issues', 'plaguing', 'many', 'rural', 'communities', 'pushed', 'throng', 'vendors', 'hawking', 'wares', 'aroma', 'injera', 'spicy', 'stews', 'filling', 'air', 'stark', 'contrast', 'dust', 'grit', 'clung', 'worn', 'clothes', 'finally', 'reached', 'airlines', 'entrance', 'imposing', 'building', 'symbol', 'ethiopias', 'progress', 'also', 'reminder', 'gap', 'city', 'countryside', 'took', 'deep', 'breath', 'scent', 'coffee', 'hope', 'filling', 'lungs', 'stepped', 'inside', 'ready', 'face', 'unknown']\n"
     ]
    }
   ],
   "source": [
    "# Sample document\n",
    "document = \"\"\"\n",
    "The biting wind of the Ethiopian highlands whipped at Ayele's face as he hurried through the bustling streets of Bole, clutching a worn leather-bound \n",
    "book. March 25th, 2025, was a day of both hope and uncertainty for him, as he navigated the crowded marketplace towards the Ethiopian Airlines \n",
    "headquarters. He hoped to finally get a chance to speak to the CEO about his invention, a solar-powered water purifier that could solve the water \n",
    "scarcity issues plaguing many rural communities.\n",
    "He pushed through the throng of vendors hawking their wares, the aroma of injera and spicy stews filling the air, a stark contrast to the dust \n",
    "and grit that clung to his worn clothes. He finally reached the airline's entrance, the imposing building a symbol of Ethiopia's progress, but also a \n",
    "reminder of the gap between the city and the countryside. He took a deep breath, the scent of coffee and hope filling his lungs, and stepped inside, \n",
    "ready to face the unknown.\n",
    "\"\"\"\n",
    "\n",
    "# Convert to lowercase\n",
    "document = document.lower()\n",
    "\n",
    "# Remove punctuation\n",
    "document = document.translate(str.maketrans('', '', string.punctuation))\n",
    "\n",
    "# Tokenize the text (split into words)\n",
    "tokens = word_tokenize(document)\n",
    "\n",
    "# Remove stopwords (common words like 'is', 'the', etc.)\n",
    "stop_words = set(stopwords.words('english'))\n",
    "filtered_tokens = [word for word in tokens if word not in stop_words]\n",
    "\n",
    "print(\"Filtered Tokens:\", filtered_tokens)"
   ]
  },
  {
   "cell_type": "code",
   "execution_count": 4,
   "id": "de733f3e-7f10-4df0-8096-c05048301370",
   "metadata": {},
   "outputs": [
    {
     "name": "stdout",
     "output_type": "stream",
     "text": [
      "Word Frequencies: {'2025': np.int64(1), '25th': np.int64(1), 'air': np.int64(1), 'airlines': np.int64(2), 'also': np.int64(1), 'aroma': np.int64(1), 'ayeles': np.int64(1), 'biting': np.int64(1), 'bole': np.int64(1), 'book': np.int64(1), 'breath': np.int64(1), 'building': np.int64(1), 'bustling': np.int64(1), 'ceo': np.int64(1), 'chance': np.int64(1), 'city': np.int64(1), 'clothes': np.int64(1), 'clung': np.int64(1), 'clutching': np.int64(1), 'coffee': np.int64(1), 'communities': np.int64(1), 'contrast': np.int64(1), 'could': np.int64(1), 'countryside': np.int64(1), 'crowded': np.int64(1), 'day': np.int64(1), 'deep': np.int64(1), 'dust': np.int64(1), 'entrance': np.int64(1), 'ethiopian': np.int64(2), 'ethiopias': np.int64(1), 'face': np.int64(2), 'filling': np.int64(2), 'finally': np.int64(2), 'gap': np.int64(1), 'get': np.int64(1), 'grit': np.int64(1), 'hawking': np.int64(1), 'headquarters': np.int64(1), 'highlands': np.int64(1), 'hope': np.int64(2), 'hoped': np.int64(1), 'hurried': np.int64(1), 'imposing': np.int64(1), 'injera': np.int64(1), 'inside': np.int64(1), 'invention': np.int64(1), 'issues': np.int64(1), 'leatherbound': np.int64(1), 'lungs': np.int64(1), 'many': np.int64(1), 'march': np.int64(1), 'marketplace': np.int64(1), 'navigated': np.int64(1), 'plaguing': np.int64(1), 'progress': np.int64(1), 'purifier': np.int64(1), 'pushed': np.int64(1), 'reached': np.int64(1), 'ready': np.int64(1), 'reminder': np.int64(1), 'rural': np.int64(1), 'scarcity': np.int64(1), 'scent': np.int64(1), 'solarpowered': np.int64(1), 'solve': np.int64(1), 'speak': np.int64(1), 'spicy': np.int64(1), 'stark': np.int64(1), 'stepped': np.int64(1), 'stews': np.int64(1), 'streets': np.int64(1), 'symbol': np.int64(1), 'throng': np.int64(1), 'took': np.int64(1), 'towards': np.int64(1), 'uncertainty': np.int64(1), 'unknown': np.int64(1), 'vendors': np.int64(1), 'wares': np.int64(1), 'water': np.int64(2), 'whipped': np.int64(1), 'wind': np.int64(1), 'worn': np.int64(2)}\n"
     ]
    }
   ],
   "source": [
    "# Join tokens back into a single string for CountVectorizer\n",
    "processed_text = ' '.join(filtered_tokens)\n",
    "\n",
    "# Initialize CountVectorizer\n",
    "vectorizer = CountVectorizer()\n",
    "\n",
    "# Fit and transform the text into a word count matrix\n",
    "word_count_matrix = vectorizer.fit_transform([processed_text])\n",
    "\n",
    "# Get the words and their counts\n",
    "words = vectorizer.get_feature_names_out()\n",
    "counts = word_count_matrix.toarray()[0]\n",
    "\n",
    "# Combine words and counts into a dictionary\n",
    "word_freq = dict(zip(words, counts))\n",
    "\n",
    "# Display the word frequencies\n",
    "print(\"Word Frequencies:\", word_freq)"
   ]
  },
  {
   "cell_type": "code",
   "execution_count": 5,
   "id": "801f420d-4f88-40cd-b9a9-6d0a8bef6609",
   "metadata": {},
   "outputs": [
    {
     "name": "stdout",
     "output_type": "stream",
     "text": [
      "Top 10 Most Frequent Words:\n",
      "airlines: 2\n",
      "ethiopian: 2\n",
      "face: 2\n",
      "filling: 2\n",
      "finally: 2\n",
      "hope: 2\n",
      "water: 2\n",
      "worn: 2\n",
      "2025: 1\n",
      "25th: 1\n"
     ]
    }
   ],
   "source": [
    "# Sort words by frequency (descending order)\n",
    "sorted_word_freq = dict(sorted(word_freq.items(), key=lambda x: x[1], reverse=True))\n",
    "\n",
    "# Print the top 5 most frequent words\n",
    "print(\"Top 10 Most Frequent Words:\")\n",
    "for word, freq in list(sorted_word_freq.items())[:10]:\n",
    "    print(f\"{word}: {freq}\")"
   ]
  },
  {
   "cell_type": "code",
   "execution_count": 7,
   "id": "f90db347-e664-4045-8111-dc994e972450",
   "metadata": {},
   "outputs": [
    {
     "data": {
      "image/png": "[encoded data removed]",
      "text/plain": [
       "<Figure size 640x480 with 1 Axes>"
      ]
     },
     "metadata": {},
     "output_type": "display_data"
    }
   ],
   "source": [
    "import matplotlib.pyplot as plt\n",
    "\n",
    "# Get the top 5 words and their counts\n",
    "top_words = list(sorted_word_freq.keys())[:10]\n",
    "top_counts = list(sorted_word_freq.values())[:10]\n",
    "\n",
    "# Create a bar chart\n",
    "plt.bar(top_words, top_counts)\n",
    "plt.xlabel('Words')\n",
    "plt.ylabel('Frequency')\n",
    "plt.title('Top 10 Most Frequent Words')\n",
    "plt.show()"
   ]
  },
  {
   "cell_type": "code",
   "execution_count": null,
   "id": "47d04a46-8937-4f16-94aa-2601353ab066",
   "metadata": {},
   "outputs": [],
   "source": []
  }
 ],
 "metadata": {
  "kernelspec": {
   "display_name": "Python 3 (ipykernel)",
   "language": "python",
   "name": "python3"
  },
  "language_info": {
   "codemirror_mode": {
    "name": "ipython",
    "version": 3
   },
   "file_extension": ".py",
   "mimetype": "text/x-python",
   "name": "python",
   "nbconvert_exporter": "python",
   "pygments_lexer": "ipython3",
   "version": "3.13.0"
  }
 },
 "nbformat": 4,
 "nbformat_minor": 5
}
