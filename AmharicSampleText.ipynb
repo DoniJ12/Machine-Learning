{
 "cells": [
  {
   "cell_type": "code",
   "execution_count": 1,
   "id": "2efae080-66eb-4c35-9a86-dd59f0212732",
   "metadata": {},
   "outputs": [
    {
     "name": "stdout",
     "output_type": "stream",
     "text": [
      "Requirement already satisfied: pandas in c:\\users\\lenovo\\appdata\\local\\programs\\python\\python313\\lib\\site-packages (2.2.3)\n",
      "Requirement already satisfied: matplotlib in c:\\users\\lenovo\\appdata\\local\\programs\\python\\python313\\lib\\site-packages (3.10.1)\n",
      "Requirement already satisfied: numpy>=1.26.0 in c:\\users\\lenovo\\appdata\\local\\programs\\python\\python313\\lib\\site-packages (from pandas) (2.2.4)\n",
      "Requirement already satisfied: python-dateutil>=2.8.2 in c:\\users\\lenovo\\appdata\\local\\programs\\python\\python313\\lib\\site-packages (from pandas) (2.9.0.post0)\n",
      "Requirement already satisfied: pytz>=2020.1 in c:\\users\\lenovo\\appdata\\local\\programs\\python\\python313\\lib\\site-packages (from pandas) (2025.2)\n",
      "Requirement already satisfied: tzdata>=2022.7 in c:\\users\\lenovo\\appdata\\local\\programs\\python\\python313\\lib\\site-packages (from pandas) (2025.2)\n",
      "Requirement already satisfied: contourpy>=1.0.1 in c:\\users\\lenovo\\appdata\\local\\programs\\python\\python313\\lib\\site-packages (from matplotlib) (1.3.1)\n",
      "Requirement already satisfied: cycler>=0.10 in c:\\users\\lenovo\\appdata\\local\\programs\\python\\python313\\lib\\site-packages (from matplotlib) (0.12.1)\n",
      "Requirement already satisfied: fonttools>=4.22.0 in c:\\users\\lenovo\\appdata\\local\\programs\\python\\python313\\lib\\site-packages (from matplotlib) (4.56.0)\n",
      "Requirement already satisfied: kiwisolver>=1.3.1 in c:\\users\\lenovo\\appdata\\local\\programs\\python\\python313\\lib\\site-packages (from matplotlib) (1.4.8)\n",
      "Requirement already satisfied: packaging>=20.0 in c:\\users\\lenovo\\appdata\\local\\programs\\python\\python313\\lib\\site-packages (from matplotlib) (24.2)\n",
      "Requirement already satisfied: pillow>=8 in c:\\users\\lenovo\\appdata\\local\\programs\\python\\python313\\lib\\site-packages (from matplotlib) (11.1.0)\n",
      "Requirement already satisfied: pyparsing>=2.3.1 in c:\\users\\lenovo\\appdata\\local\\programs\\python\\python313\\lib\\site-packages (from matplotlib) (3.2.3)\n",
      "Requirement already satisfied: six>=1.5 in c:\\users\\lenovo\\appdata\\local\\programs\\python\\python313\\lib\\site-packages (from python-dateutil>=2.8.2->pandas) (1.17.0)\n"
     ]
    },
    {
     "name": "stderr",
     "output_type": "stream",
     "text": [
      "\n",
      "[notice] A new release of pip is available: 24.2 -> 25.0.1\n",
      "[notice] To update, run: python.exe -m pip install --upgrade pip\n"
     ]
    }
   ],
   "source": [
    "!pip install pandas matplotlib"
   ]
  },
  {
   "cell_type": "code",
   "execution_count": 5,
   "id": "415ed67a-5b70-4651-93b4-eea858b6b0d8",
   "metadata": {},
   "outputs": [
    {
     "name": "stdout",
     "output_type": "stream",
     "text": [
      "Original Amharic Text:\n",
      "\n",
      "ማሽን መማር አስደናቂ መስክ ነው። ኮምፒውተሮች መማር እና በጊዜ መሻሻል : ያስችላቸዋል።\n",
      "ይህ : ሰነድ : ቀላል : ምሳሌ : ለቃላት : መቁጠር : በፓይተን : እና : ማሽን : መማር : መሣሪያዎች : ነው።\n",
      "\n",
      "Tokens: ['ማሽን', 'መማር', 'አስደናቂ', 'መስክ', 'ነው', 'ኮምፒውተሮች', 'መማር', 'እና', 'በጊዜ', 'መሻሻል', ':', 'ያስችላቸዋል', 'ይህ', ':', 'ሰነድ', ':', 'ቀላል', ':', 'ምሳሌ', ':', 'ለቃላት', ':', 'መቁጠር', ':', 'በፓይተን', ':', 'እና', ':', 'ማሽን', ':', 'መማር', ':', 'መሣሪያዎች', ':', 'ነው']\n",
      "Word Frequencies:\n",
      ":          12\n",
      "መማር         3\n",
      "ማሽን         2\n",
      "እና          2\n",
      "ነው          2\n",
      "አስደናቂ       1\n",
      "መስክ         1\n",
      "ኮምፒውተሮች     1\n",
      "በጊዜ         1\n",
      "መሻሻል        1\n",
      "ያስችላቸዋል     1\n",
      "ይህ          1\n",
      "ሰነድ         1\n",
      "ቀላል         1\n",
      "ምሳሌ         1\n",
      "ለቃላት        1\n",
      "መቁጠር        1\n",
      "በፓይተን       1\n",
      "መሣሪያዎች      1\n",
      "Name: count, dtype: int64\n",
      "Total Unique Words: 19\n"
     ]
    }
   ],
   "source": [
    "import pandas as pd\n",
    "import matplotlib.pyplot as plt\n",
    "import re\n",
    "\n",
    "# Sample Amharic text\n",
    "document = \"\"\"\n",
    "ማሽን መማር አስደናቂ መስክ ነው። ኮምፒውተሮች መማር እና በጊዜ መሻሻል : ያስችላቸዋል።\n",
    "ይህ : ሰነድ : ቀላል : ምሳሌ : ለቃላት : መቁጠር : በፓይተን : እና : ማሽን : መማር : መሣሪያዎች : ነው።\n",
    "\"\"\"\n",
    "print(\"Original Amharic Text:\")\n",
    "print(document)\n",
    "\n",
    "# Preprocess: remove punctuation and tokenize\n",
    "document = document.lower()\n",
    "document = re.sub(r'[።፣፤፡]+', '', document)\n",
    "tokens = document.split()\n",
    "\n",
    "print(\"Tokens:\", tokens)\n",
    "\n",
    "# Count unique words and their frequencies\n",
    "word_freq = pd.Series(tokens).value_counts()\n",
    "\n",
    "# Display word frequencies and unique word count\n",
    "print(\"Word Frequencies:\")\n",
    "print(word_freq)\n",
    "print(\"Total Unique Words:\", len(word_freq))\n",
    "\n",
    "# Sort and visualize top 5 words\n",
    "sorted_word_freq = word_freq.sort_values(ascending=False)\n",
    "top_words = sorted_word_freq.index[:5]\n",
    "top_counts = sorted_word_freq.values[:5]\n"
   ]
  },
  {
   "cell_type": "code",
   "execution_count": null,
   "id": "a3e6d17f-64e3-429d-8aa0-1d8b17143922",
   "metadata": {},
   "outputs": [],
   "source": []
  }
 ],
 "metadata": {
  "kernelspec": {
   "display_name": "Python 3 (ipykernel)",
   "language": "python",
   "name": "python3"
  },
  "language_info": {
   "codemirror_mode": {
    "name": "ipython",
    "version": 3
   },
   "file_extension": ".py",
   "mimetype": "text/x-python",
   "name": "python",
   "nbconvert_exporter": "python",
   "pygments_lexer": "ipython3",
   "version": "3.13.0"
  }
 },
 "nbformat": 4,
 "nbformat_minor": 5
}
